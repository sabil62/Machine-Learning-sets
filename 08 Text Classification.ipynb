{
 "cells": [
  {
   "cell_type": "code",
   "execution_count": 1,
   "metadata": {},
   "outputs": [],
   "source": [
    "import nltk"
   ]
  },
  {
   "cell_type": "code",
   "execution_count": 2,
   "metadata": {},
   "outputs": [],
   "source": [
    "from nltk.corpus import movie_reviews"
   ]
  },
  {
   "cell_type": "code",
   "execution_count": 5,
   "metadata": {},
   "outputs": [],
   "source": [
    "documents = [(list(movie_reviews.words(fileid)),category)\n",
    "            for category in movie_reviews.categories()\n",
    "            for fileid in movie_reviews.fileids(category)]"
   ]
  },
  {
   "cell_type": "code",
   "execution_count": 9,
   "metadata": {},
   "outputs": [
    {
     "name": "stdout",
     "output_type": "stream",
     "text": [
      "No of documnets:2000\n",
      "first document is (['`', 'we', 'run', 'tings', '.', 'tings', 'don', \"'\", 't', 'run', 'we', '.', \"'\", '-', 'sound', 'advice', 'from', 'capone', '(', 'paul', 'campbell', ')', 'to', 'his', 'squaddie', '(', 'or', 'partner', ')', ',', 'floyd', '(', 'winston', 'bell', ')', '.', 'jamaican', 'film', ',', 'shot', 'entirely', 'on', 'video', ',', 'featuring', 'a', 'standard', 'cop', 'movie', 'plot', 'mixed', 'with', 'a', 'dash', 'of', 'john', 'woo', '-', 'styled', 'brotherhood', 'morals', '(', 'and', 'a', 'little', 'gunplay', ')', '.', 'capone', ',', 'a', 'tough', 'as', 'nails', 'super', 'cop', ',', 'gets', 'a', 'transfer', 'back', 'to', 'his', 'hometown', 'of', 'kingston', 'after', 'successfully', 'taking', 'down', 'some', 'gangsters', 'that', 'have', 'broken', 'into', 'his', 'home', '(', 'while', 'he', 'was', 'with', 'his', 'lady', ')', 'and', 'killed', 'his', 'partner', 'in', 'front', 'of', 'him', '.', 'when', 'he', 'arrives', ',', 'he', 'discovers', 'that', 'the', 'ghetto', 'where', 'he', 'grew', 'up', 'has', 'gotten', 'worse', ',', 'thanks', 'mainly', 'to', 'the', 'crime', 'boss', 'wonie', '(', 'jamaican', 'film', 'veteran', 'carl', 'bradshaw', ')', ',', 'so', 'named', 'because', 'his', 'left', 'hand', 'has', 'been', 'amputated', 'and', 'replaced', 'by', 'a', 'grasping', 'hook', ')', '.', 'capone', 'discovers', 'that', 'wonie', 'has', 'been', 'smuggling', 'guns', 'inside', 'shipments', 'of', 'charity', 'supplies', 'for', 'the', 'area', 'churches', 'and', ',', 'much', 'to', 'his', 'disappointment', ',', 'also', 'finds', 'out', 'his', 'childhood', 'friend', 'ratty', '(', 'mark', 'danvers', ')', 'has', 'been', 'helping', 'him', '.', 'torn', 'between', 'doing', 'his', 'job', 'and', 'protecting', 'his', 'best', 'friend', ',', 'capone', 'must', 'make', 'some', 'hard', 'decisions', 'in', 'order', 'to', 'make', 'things', 'right', 'again', '.', 'directed', 'deftly', 'by', 'first', 'time', 'jamaican', 'filmmaker', 'chris', 'browne', '(', 'assistant', 'director', 'for', 'such', 'american', 'films', 'as', 'how', 'stella', 'got', 'her', 'groove', 'back', 'and', 'instinct', ')', ',', 'one', 'hardly', 'notices', 'the', 'film', 'was', 'shot', 'on', 'video', 'after', 'a', 'while', '.', 'shots', 'are', 'handled', 'so', 'efficiently', 'that', 'they', 'quickly', 'take', 'on', 'the', 'nuances', 'of', 'the', 'aforementioned', 'john', 'woo', 'films', ',', 'although', 'the', 'action', 'isn', \"'\", 't', 'as', 'hyperkinetic', 'as', 'most', 'of', 'woo', \"'\", 's', 'films', 'are', '.', 'the', 'action', 'scenes', 'are', 'handled', 'with', 'a', 'kind', 'of', 'flair', 'though', ',', 'and', 'eventually', 'begin', 'to', 'take', 'on', 'a', 'life', 'of', 'their', 'own', '(', 'beyond', 'the', 'hong', 'kong', 'films', 'that', 'they', 'are', 'obviously', 'patterned', 'after', ')', '.', 'the', 'make', '-', 'up', 'effects', 'are', 'particularly', 'good', 'in', 'these', 'scenes', 'as', 'well', ',', 'with', 'flawless', 'squib', 'work', 'on', 'display', 'from', 'the', 'effects', 'team', '.', 'the', 'cast', 'is', 'superb', 'and', 'listening', 'to', 'their', 'dialogue', ',', 'spoken', 'with', 'thick', 'jamaican', 'accents', '(', 'half', 'of', 'which', 'have', 'to', 'be', 'subtitled', 'because', 'of', 'their', 'extensive', 'use', 'of', 'slang', ')', ',', 'just', 'adds', 'to', 'the', 'interest', '.', 'paul', 'campbell', ',', 'as', 'the', '`', 'loose', 'cannon', \"'\", 'capone', ',', 'essays', 'his', 'role', 'perfectly', ',', 'displaying', 'the', 'right', 'amount', 'of', 'menace', 'and', 'compassion', 'at', 'the', 'right', 'times', '.', 'mark', 'danvers', 'evokes', 'sympathy', 'as', 'ratty', ',', 'the', 'part', '-', 'time', 'gun', 'smuggler', 'who', 'is', 'also', 'trying', 'to', 'help', 'the', 'community', 'by', 'building', 'football', 'fields', 'and', 'organizing', 'block', 'parties', 'to', 'bring', 'people', 'together', '.', 'unfortunately', ',', 'carl', 'bradshaw', 'is', 'given', 'the', 'least', 'to', 'do', 'and', 'his', 'character', 'as', 'the', 'crime', 'boss', 'seems', 'ineffective', '(', 'largely', 'because', 'his', 'underlings', 'seem', 'to', 'run', 'all', 'over', 'him', ')', ',', 'but', 'then', 'again', ',', 'that', 'could', 'be', 'the', 'way', 'his', 'character', 'was', 'intended', 'to', 'be', 'portrayed', '.', 'the', 'music', 'in', 'the', 'film', 'is', 'composed', 'of', 'all', 'reggae', 'songs', ',', 'and', 'the', 'soundtrack', 'was', 'produced', 'by', 'grammy', 'award', 'winning', 'artists', ',', 'sly', 'and', 'robbie', '(', 'who', 'have', 'worked', 'with', 'the', 'likes', 'of', 'the', 'rolling', 'stones', ',', 'maxi', 'priest', ',', 'bob', 'dylan', ',', 'james', 'brown', ',', 'grace', 'jones', ',', 'herbie', 'hancock', ',', 'bootsy', 'collins', ',', 'and', 'carly', 'simon', 'among', 'others', ')', '.', 'the', 'end', 'credit', 'song', ',', '`', 'we', 'run', 'tings', \"'\", ',', 'by', 'the', 'group', 'red', 'dragon', ',', 'is', 'pretty', 'decent', 'and', 'carries', 'on', 'the', 'theme', 'of', 'the', 'movie', 'established', 'early', 'on', 'by', 'the', 'quote', 'that', 'opens', 'this', 'review', '.', 'oddly', 'enough', ',', 'desmond', 'ballentine', '(', 'who', 'plays', 'the', 'character', 'deportee', ')', 'is', 'well', 'known', 'as', 'a', 'pioneer', 'in', 'the', 'realm', 'of', '`', 'gangsta', \"'\", 'reggae', 'as', 'the', 'performer', 'ninjaman', ',', 'and', 'he', 'doesn', \"'\", 't', 'contribute', 'a', 'single', 'song', 'to', 'the', 'film', '(', 'that', 'i', 'could', 'see', ')', ',', 'which', 'is', 'virtually', 'unheard', 'of', 'here', 'in', 'the', 'us', '.', 'at', 'the', 'time', 'of', 'this', 'writing', ',', 'third', 'world', 'cop', 'has', 'been', 'put', 'into', 'limited', 'theatrical', 'release', 'in', 'the', 'us', ',', 'coming', 'off', 'of', 'a', 'six', '-', 'month', 'box', '-', 'office', 'breaking', 'run', 'in', 'jamaica', ',', 'where', 'it', 'holds', 'the', 'position', 'as', 'highest', 'grossing', 'film', 'of', 'all', 'time', '(', 'bringing', 'in', '$', '21', 'million', 'in', 'jamaica', ',', 'which', 'is', 'roughly', '$', '500', ',', '000', 'us', ')', '.', 'palm', 'pictures', '(', 'the', 'company', 'that', 'released', 'the', 'offbeat', ',', 'but', 'entertaining', 'six', '-', 'string', 'samurai', ')', 'is', 'the', 'company', 'releasing', 'the', 'film', 'and', 'considering', 'that', 'their', 'main', 'focus', 'is', 'the', 'dvd', 'market', ',', 'i', 'can', 'imagine', 'that', 'a', 'disc', 'will', 'be', 'available', 'once', 'the', 'film', 'has', 'left', 'theaters', '.', 'chris', 'blackwell', ',', 'founder', 'of', 'palm', 'pictures', ',', 'was', 'also', 'involved', 'in', 'the', 'production', 'of', 'another', 'jamaican', 'box', '-', 'office', 'smash', 'in', '1981', 'entitled', 'countryman', ',', 'so', 'i', \"'\", 'd', 'say', 'he', 'has', 'a', 'pretty', 'good', 'track', 'record', '.', 'overall', ',', 'third', 'world', 'cop', 'is', 'a', 'pretty', 'entertaining', 'homage', 'to', 'the', 'films', 'of', 'john', 'woo', ',', 'ringo', 'lam', ',', 'tsui', 'hark', ',', 'and', 'many', 'other', 'action', 'films', 'by', 'directors', 'from', 'hong', 'kong', '.', 'if', 'action', 'films', 'are', 'your', 'thing', 'and', 'you', 'don', \"'\", 't', 'mind', 'intermittent', 'subtitles', ',', 'then', 'you', 'can', \"'\", 't', 'go', 'wrong', 'with', 'this', 'film', '.', 'the', 'performances', 'and', 'the', 'story', 'are', 'solid', '(', 'if', 'only', 'a', 'little', 'cliched', ')', 'and', 'the', 'action', 'is', 'tight', '.', 'i', \"'\", 'm', 'not', 'sure', 'what', 'the', 'other', 'jamaican', 'films', 'released', 'in', 'that', 'country', 'are', 'like', ',', 'but', 'apparently', 'third', 'world', 'cop', \"'\", 's', 'honors', 'are', 'well', 'deserved', '.'], 'pos')\n"
     ]
    }
   ],
   "source": [
    "import random\n",
    "random.shuffle(documents)          #not needed\n",
    "\n",
    "print('No of documnets:{}'.format(len(documents)))\n",
    "print('first document is',documents[0])"
   ]
  },
  {
   "cell_type": "code",
   "execution_count": 26,
   "metadata": {},
   "outputs": [
    {
     "name": "stdout",
     "output_type": "stream",
     "text": [
      "Most common words [(',', 10), ('.', 10), ('the', 7), ('and', 6), ('to', 5), ('but', 5), ('a', 4), ('\"', 4), ('it', 4), ('one', 3), ('of', 3), ('what', 3), (\"'\", 3), ('movie', 3), ('this', 3), (':', 2), ('teen', 2), ('then', 2), ('they', 2), ('an', 2), ('in', 2), ('s', 2), ('?', 2), ('that', 2), ('very', 2), ('bad', 2), ('which', 2), ('is', 2), ('films', 2), ('with', 2), ('are', 2), ('plot', 1), ('two', 1), ('couples', 1), ('go', 1), ('church', 1), ('party', 1), ('drink', 1), ('drive', 1), ('get', 1), ('into', 1), ('accident', 1), ('guys', 1), ('dies', 1), ('his', 1), ('girlfriend', 1), ('continues', 1), ('see', 1), ('him', 1), ('her', 1), ('life', 1), ('has', 1), ('nightmares', 1), ('deal', 1), ('watch', 1), ('sorta', 1), ('find', 1), ('out', 1), ('critique', 1), ('mind', 1), ('-', 1), ('fuck', 1), ('for', 1), ('generation', 1), ('touches', 1), ('on', 1), ('cool', 1), ('idea', 1), ('presents', 1), ('package', 1), ('makes', 1), ('review', 1), ('even', 1), ('harder', 1), ('write', 1), ('since', 1), ('i', 1), ('generally', 1), ('applaud', 1), ('attempt', 1), ('break', 1), ('mold', 1), ('mess', 1), ('your', 1), ('head', 1), ('such', 1), ('(', 1), ('lost', 1), ('highway', 1), ('&', 1), ('memento', 1), (')', 1), ('there', 1), ('good', 1), ('ways', 1), ('making', 1), ('all', 1), ('types', 1), ('these', 1), ('folks', 1), ('just', 1), ('didn', 1), ('t', 1), ('snag', 1), ('correctly', 1), ('seem', 1), ('have', 1), ('taken', 1), ('pretty', 1), ('neat', 1), ('concept', 1), ('executed', 1), ('terribly', 1), ('so', 1), ('problems', 1), ('well', 1), ('its', 1), ('main', 1), ('problem', 1), ('simply', 1), ('too', 1), ('jumbled', 1), ('starts', 1), ('off', 1), ('normal', 1), ('downshifts', 1)]\n",
      "--------------------------------------------------------------------------------------------------------------------\n",
      "Repetation of word highway:1\n"
     ]
    }
   ],
   "source": [
    " all_words=[]\n",
    "\n",
    "for w in movie_reviews.words():\n",
    "    all_words.append(w.lower())\n",
    "    \n",
    "#Shows frequency like most common words\n",
    "all_words200 = nltk.FreqDist(all_words[:200])\n",
    "print('Most common words',all_words200.most_common())\n",
    "print('--------------------------------------------------------------------------------------------------------------------')\n",
    "print('Repetation of word highway:{}'.format(all_words200['highway']))"
   ]
  },
  {
   "cell_type": "markdown",
   "metadata": {},
   "source": [
    "# Negative error "
   ]
  },
  {
   "cell_type": "code",
   "execution_count": 28,
   "metadata": {},
   "outputs": [
    {
     "name": "stdout",
     "output_type": "stream",
     "text": [
      "dict_keys(['plot', ':', 'two', 'teen', 'couples', 'go', 'to', 'a', 'church', 'party', ',', 'drink', 'and', 'then', 'drive', '.', 'they', 'get', 'into', 'an', 'accident', 'one', 'of', 'the', 'guys', 'dies', 'but', 'his', 'girlfriend', 'continues', 'see', 'him', 'in', 'her', 'life', 'has', 'nightmares', 'what', \"'\", 's', 'deal', '?', 'watch', 'movie', '\"', 'sorta', 'find', 'out', 'critique', 'mind', '-', 'fuck', 'for', 'generation', 'that', 'touches', 'on', 'very', 'cool', 'idea', 'presents', 'it', 'bad', 'package', 'which', 'is', 'makes', 'this', 'review', 'even', 'harder', 'write', 'since', 'i', 'generally', 'applaud', 'films', 'attempt', 'break', 'mold', 'mess', 'with', 'your', 'head', 'such', '(', 'lost', 'highway', '&', 'memento', ')', 'there', 'are', 'good', 'ways', 'making', 'all', 'types', 'these', 'folks', 'just', 'didn', 't', 'snag', 'correctly', 'seem', 'have', 'taken', 'pretty', 'neat', 'concept', 'executed', 'terribly', 'so', 'problems', 'well', 'its', 'main', 'problem', 'simply', 'too', 'jumbled', 'starts', 'off', 'normal', 'downshifts'])\n"
     ]
    }
   ],
   "source": [
    "print(all_words200.keys())"
   ]
  },
  {
   "cell_type": "code",
   "execution_count": 31,
   "metadata": {},
   "outputs": [
    {
     "name": "stdout",
     "output_type": "stream",
     "text": [
      "plot\n",
      ":\n",
      "two\n",
      "teen\n",
      "couples\n",
      "go\n",
      "to\n",
      "a\n",
      "church\n",
      "party\n",
      ",\n",
      "drink\n",
      "and\n",
      "then\n",
      "drive\n",
      ".\n",
      "they\n",
      "get\n",
      "into\n",
      "an\n",
      "accident\n",
      "one\n",
      "of\n",
      "the\n",
      "guys\n",
      "dies\n",
      "but\n",
      "his\n",
      "girlfriend\n",
      "continues\n",
      "see\n",
      "him\n",
      "in\n",
      "her\n",
      "life\n",
      "has\n",
      "nightmares\n",
      "what\n",
      "'\n",
      "s\n",
      "deal\n",
      "?\n",
      "watch\n",
      "movie\n",
      "\"\n",
      "sorta\n",
      "find\n",
      "out\n",
      "critique\n",
      "mind\n",
      "-\n",
      "fuck\n",
      "for\n",
      "generation\n",
      "that\n",
      "touches\n",
      "on\n",
      "very\n",
      "cool\n",
      "idea\n",
      "presents\n",
      "it\n",
      "bad\n",
      "package\n",
      "which\n",
      "is\n",
      "makes\n",
      "this\n",
      "review\n",
      "even\n",
      "harder\n",
      "write\n",
      "since\n",
      "i\n",
      "generally\n",
      "applaud\n",
      "films\n",
      "attempt\n",
      "break\n",
      "mold\n",
      "mess\n",
      "with\n",
      "your\n",
      "head\n",
      "such\n",
      "(\n",
      "lost\n",
      "highway\n",
      "&\n",
      "memento\n",
      ")\n",
      "there\n",
      "are\n",
      "good\n",
      "ways\n",
      "making\n",
      "all\n",
      "types\n",
      "these\n",
      "folks\n",
      "just\n",
      "didn\n",
      "t\n",
      "snag\n",
      "correctly\n",
      "seem\n",
      "have\n",
      "taken\n",
      "pretty\n",
      "neat\n",
      "concept\n",
      "executed\n",
      "terribly\n",
      "so\n",
      "problems\n",
      "well\n",
      "its\n",
      "main\n",
      "problem\n",
      "simply\n",
      "too\n",
      "jumbled\n",
      "starts\n",
      "off\n",
      "normal\n",
      "downshifts\n"
     ]
    }
   ],
   "source": [
    "word_features = list(all_words200.keys())\n",
    "\n",
    "#Build a find_features func that will determine which of word_features are negative in a review\n",
    "def find_features(docs):\n",
    "    words =  set(docs)\n",
    "    features = {}\n",
    "    \n",
    "    for w in word_features:\n",
    "        features[w] = (w in words)\n",
    "        \n",
    "    return features\n",
    "features = find_features(movie_reviews.words('neg/cv000_29416.txt'))\n",
    "for key,value in features.items():\n",
    "    if value == True:\n",
    "        print(key)"
   ]
  },
  {
   "cell_type": "code",
   "execution_count": 33,
   "metadata": {},
   "outputs": [
    {
     "name": "stdout",
     "output_type": "stream",
     "text": [
      "{'plot': True, ':': True, 'two': True, 'teen': True, 'couples': True, 'go': True, 'to': True, 'a': True, 'church': True, 'party': True, ',': True, 'drink': True, 'and': True, 'then': True, 'drive': True, '.': True, 'they': True, 'get': True, 'into': True, 'an': True, 'accident': True, 'one': True, 'of': True, 'the': True, 'guys': True, 'dies': True, 'but': True, 'his': True, 'girlfriend': True, 'continues': True, 'see': True, 'him': True, 'in': True, 'her': True, 'life': True, 'has': True, 'nightmares': True, 'what': True, \"'\": True, 's': True, 'deal': True, '?': True, 'watch': True, 'movie': True, '\"': True, 'sorta': True, 'find': True, 'out': True, 'critique': True, 'mind': True, '-': True, 'fuck': True, 'for': True, 'generation': True, 'that': True, 'touches': True, 'on': True, 'very': True, 'cool': True, 'idea': True, 'presents': True, 'it': True, 'bad': True, 'package': True, 'which': True, 'is': True, 'makes': True, 'this': True, 'review': True, 'even': True, 'harder': True, 'write': True, 'since': True, 'i': True, 'generally': True, 'applaud': True, 'films': True, 'attempt': True, 'break': True, 'mold': True, 'mess': True, 'with': True, 'your': True, 'head': True, 'such': True, '(': True, 'lost': True, 'highway': True, '&': True, 'memento': True, ')': True, 'there': True, 'are': True, 'good': True, 'ways': True, 'making': True, 'all': True, 'types': True, 'these': True, 'folks': True, 'just': True, 'didn': True, 't': True, 'snag': True, 'correctly': True, 'seem': True, 'have': True, 'taken': True, 'pretty': True, 'neat': True, 'concept': True, 'executed': True, 'terribly': True, 'so': True, 'problems': True, 'well': True, 'its': True, 'main': True, 'problem': True, 'simply': True, 'too': True, 'jumbled': True, 'starts': True, 'off': True, 'normal': True, 'downshifts': True}\n"
     ]
    }
   ],
   "source": [
    "print(features)"
   ]
  },
  {
   "cell_type": "markdown",
   "metadata": {},
   "source": [
    "# Machine learning"
   ]
  },
  {
   "cell_type": "code",
   "execution_count": 41,
   "metadata": {},
   "outputs": [],
   "source": [
    "featuresets = [(find_features(rev),category) for (rev,category) in documents]\n",
    "#print(featuresets[:2])"
   ]
  },
  {
   "cell_type": "code",
   "execution_count": 49,
   "metadata": {},
   "outputs": [
    {
     "name": "stdout",
     "output_type": "stream",
     "text": [
      "400\n",
      "100\n"
     ]
    }
   ],
   "source": [
    "from sklearn import model_selection\n",
    "\n",
    "\n",
    "training,testing = model_selection.train_test_split(featuresets[:500],test_size=0.2,random_state=4)\n",
    "\n",
    "print(len(training))\n",
    "print(len(testing))"
   ]
  },
  {
   "cell_type": "code",
   "execution_count": 46,
   "metadata": {},
   "outputs": [],
   "source": [
    "from nltk.classify.scikitlearn import SklearnClassifier\n",
    "from sklearn.svm import SVC"
   ]
  },
  {
   "cell_type": "code",
   "execution_count": 50,
   "metadata": {},
   "outputs": [
    {
     "name": "stdout",
     "output_type": "stream",
     "text": [
      "SVC accuracy 0.59\n"
     ]
    }
   ],
   "source": [
    "model = SklearnClassifier(SVC(kernel='linear'))\n",
    "model.train(training)\n",
    "\n",
    "accuracy =  nltk.classify.accuracy(model,testing)\n",
    "print('SVC accuracy',accuracy)"
   ]
  }
 ],
 "metadata": {
  "kernelspec": {
   "display_name": "Python 3",
   "language": "python",
   "name": "python3"
  },
  "language_info": {
   "codemirror_mode": {
    "name": "ipython",
    "version": 3
   },
   "file_extension": ".py",
   "mimetype": "text/x-python",
   "name": "python",
   "nbconvert_exporter": "python",
   "pygments_lexer": "ipython3",
   "version": "3.7.3"
  }
 },
 "nbformat": 4,
 "nbformat_minor": 2
}
